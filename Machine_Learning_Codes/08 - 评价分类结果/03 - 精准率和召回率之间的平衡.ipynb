{
 "cells": [
  {
   "cell_type": "code",
   "execution_count": 1,
   "metadata": {},
   "outputs": [],
   "source": [
    "import numpy as np\n",
    "import matplotlib.pyplot as plt"
   ]
  },
  {
   "cell_type": "code",
   "execution_count": 2,
   "metadata": {},
   "outputs": [],
   "source": [
    "from sklearn import datasets\n",
    "\n",
    "digits = datasets.load_digits()\n",
    "X = digits.data\n",
    "y = digits.target.copy()\n",
    "\n",
    "y[digits.target == 9] = 1\n",
    "y[digits.target != 9] = 0"
   ]
  },
  {
   "cell_type": "code",
   "execution_count": 3,
   "metadata": {},
   "outputs": [],
   "source": [
    "from sklearn.model_selection import train_test_split\n",
    "\n",
    "X_train, X_test, y_train, y_test = train_test_split(X, y, random_state = 666)"
   ]
  },
  {
   "cell_type": "code",
   "execution_count": 4,
   "metadata": {},
   "outputs": [
    {
     "name": "stderr",
     "output_type": "stream",
     "text": [
      "d:\\python\\lib\\site-packages\\sklearn\\linear_model\\logistic.py:432: FutureWarning: Default solver will be changed to 'lbfgs' in 0.22. Specify a solver to silence this warning.\n",
      "  FutureWarning)\n"
     ]
    }
   ],
   "source": [
    "from sklearn.linear_model import LogisticRegression\n",
    "\n",
    "log_reg = LogisticRegression()\n",
    "log_reg.fit(X_train, y_train)\n",
    "y_predict = log_reg.predict(X_test)"
   ]
  },
  {
   "cell_type": "code",
   "execution_count": 5,
   "metadata": {},
   "outputs": [
    {
     "data": {
      "text/plain": [
       "0.8674698795180723"
      ]
     },
     "execution_count": 5,
     "metadata": {},
     "output_type": "execute_result"
    }
   ],
   "source": [
    "from sklearn.metrics import f1_score\n",
    "\n",
    "f1_score(y_test, y_predict)"
   ]
  },
  {
   "cell_type": "code",
   "execution_count": 6,
   "metadata": {},
   "outputs": [
    {
     "data": {
      "text/plain": [
       "array([[403,   2],\n",
       "       [  9,  36]], dtype=int64)"
      ]
     },
     "execution_count": 6,
     "metadata": {},
     "output_type": "execute_result"
    }
   ],
   "source": [
    "from sklearn.metrics import confusion_matrix\n",
    "\n",
    "confusion_matrix(y_test, y_predict)"
   ]
  },
  {
   "cell_type": "code",
   "execution_count": 7,
   "metadata": {},
   "outputs": [
    {
     "data": {
      "text/plain": [
       "0.9473684210526315"
      ]
     },
     "execution_count": 7,
     "metadata": {},
     "output_type": "execute_result"
    }
   ],
   "source": [
    "from sklearn.metrics import precision_score\n",
    "\n",
    "precision_score(y_test, y_predict)"
   ]
  },
  {
   "cell_type": "code",
   "execution_count": 8,
   "metadata": {},
   "outputs": [
    {
     "data": {
      "text/plain": [
       "0.8"
      ]
     },
     "execution_count": 8,
     "metadata": {},
     "output_type": "execute_result"
    }
   ],
   "source": [
    "from sklearn.metrics import recall_score\n",
    "\n",
    "recall_score(y_test, y_predict)"
   ]
  },
  {
   "cell_type": "code",
   "execution_count": 9,
   "metadata": {},
   "outputs": [
    {
     "data": {
      "text/plain": [
       "array([-22.05698719, -33.02937778, -16.21333279, -80.37915403,\n",
       "       -48.25127619, -24.54005982, -44.39172138, -25.0429207 ,\n",
       "        -0.9782989 , -19.71745295, -66.25140755, -51.09598495,\n",
       "       -31.49347281, -46.05338566, -38.67871522, -29.80471852,\n",
       "       -37.58846077, -82.57567705, -37.81904826, -11.01164092,\n",
       "        -9.17441372, -85.13003467, -16.71617119, -46.23719791,\n",
       "        -5.32990531, -47.91764603, -11.66730361, -39.19597521,\n",
       "       -25.25293221, -14.36647475, -16.99783205, -28.91903643,\n",
       "       -34.33938873, -29.47600607,  -7.85812285,  -3.82096759,\n",
       "       -24.08156831, -22.16363823, -33.61213303, -23.14019349,\n",
       "       -26.91802392, -62.38935133, -38.85685226, -66.77256753,\n",
       "       -20.14480026, -17.47885964, -18.06799243, -22.222244  ,\n",
       "       -29.6230333 , -19.73173447,   1.49552314,   8.32079437,\n",
       "       -36.29302611, -42.5073014 , -25.90460571, -34.98959528,\n",
       "        -8.42008995, -50.04727283, -51.48207237,  19.88956557,\n",
       "        -8.91885667, -31.99340731, -11.66095306,  -0.47142135,\n",
       "       -49.16129796, -46.2379694 , -25.05391864, -19.61345866,\n",
       "       -36.16659714,  -3.12535907,  -3.91419564, -19.06042741,\n",
       "       -21.03312224, -41.52238407, -12.00624423, -33.89269915,\n",
       "       -35.84800693, -30.6047091 , -56.51640588, -18.45470878,\n",
       "         4.51534408, -17.21607177, -76.65095779, -58.5451937 ,\n",
       "       -31.72086201, -29.90830189, -33.31895108,  -9.08749002,\n",
       "       -47.64451778, -66.15301088, -16.9562789 , -22.24901863,\n",
       "       -11.48957275, -18.10557888, -68.65399725, -47.02575857,\n",
       "       -40.11870348, -35.50211773, -17.19764975, -63.1027937 ,\n",
       "       -16.95441607, -55.10244391, -28.71255529, -68.81580246,\n",
       "       -68.310145  ,  -6.25934474, -25.84000804, -38.00882132,\n",
       "       -27.90914071, -15.44709724, -27.45895329, -19.59776687,\n",
       "        12.33460891, -23.03865152, -35.94459876, -30.02828603,\n",
       "       -70.0667413 , -29.48724177, -52.9882312 , -24.97014196,\n",
       "       -12.3284188 , -48.00988702,  -2.49963322, -59.92447697,\n",
       "       -31.18113338,  -8.65728261, -71.34896705, -57.01114312,\n",
       "       -21.09870148, -21.53855415, -69.34307957, -18.63517406,\n",
       "       -39.91424847, -57.26579164,  -0.84507006, -21.8837778 ,\n",
       "       -22.64111346, -29.21262527, -35.15692275, -20.25850381,\n",
       "       -11.40289598,   3.87280049,   6.09028001,   1.42896192,\n",
       "        -7.82704881, -39.35174621,  12.21053678, -75.10175561,\n",
       "       -75.38162521, -50.41807016, -11.55438974, -48.45866142,\n",
       "       -75.44072674, -29.98056977, -64.11581994,  -7.1658648 ,\n",
       "        -6.52451926, -18.97257974, -33.71611598, -17.7621827 ,\n",
       "       -45.59375347, -33.53730147, -34.08686119, -73.31510453,\n",
       "       -15.43455754,  12.167462  , -56.45924246,  -6.03197746,\n",
       "       -49.0844049 , -16.54210735,  -2.05951128, -11.81038044,\n",
       "       -33.47402144, -50.7717857 , -10.62901093, -17.67500137,\n",
       "        -5.07823716, -25.25778543, -16.61515283,   3.91125797,\n",
       "       -46.75596542, -12.89879233, -25.74789448, -16.31799509,\n",
       "       -23.55094099, -83.48236369,  -6.23508471, -19.83968914,\n",
       "       -20.06231963, -26.65462052, -27.112695  , -39.63719141,\n",
       "       -39.81293754, -27.43657326, -24.11825907, -21.24520535,\n",
       "       -10.49821876, -19.39895939, -41.95759873, -43.62364139,\n",
       "       -16.06837886, -64.09612041, -24.75459682, -56.57384689,\n",
       "       -13.50013771, -30.01573488,   3.93719231, -44.71699294,\n",
       "        -8.69364652,   1.58877834,  -2.76245198, -11.91893957,\n",
       "         7.587885  ,  -7.25883612, -46.73815815, -49.1966029 ,\n",
       "        -4.8042284 , -19.61030503, -24.30537096, -48.98792691,\n",
       "       -14.98129342, -24.83600547, -16.93954484, -19.46779756,\n",
       "       -15.77204607, -17.00121895, -39.23692349, -31.37453524,\n",
       "        -9.42196261, -71.3815775 , -22.17500741, -14.7298352 ,\n",
       "       -23.57983423, -34.4938364 ,  -1.17651883, -32.90820637,\n",
       "       -10.82272188, -18.26229309,  -8.29309121, -44.84196934,\n",
       "       -22.59248619, -61.73630291, -47.12969337, -65.62583527,\n",
       "       -33.36435772, -24.00482056, -29.33164655, -65.22704954,\n",
       "         1.43986818,  -4.56085809, -25.25846658, -22.46483541,\n",
       "       -54.43071494, -16.81738307, -11.28768542, -35.25838212,\n",
       "        -5.57318206, -14.93090647, -70.95372727,  -6.50506159,\n",
       "        -1.22953725, -37.87545417, -23.68942668, -68.29962351,\n",
       "        14.93803761, -62.55687566,  10.14793849, -24.44796157,\n",
       "       -32.85381141, -14.32956863, -85.68605733, -13.16396042,\n",
       "         9.27784815, -17.32720517, -36.06510416, -17.04718242,\n",
       "       -19.71313266, -32.72635624,  -5.36343545,   7.68321817,\n",
       "         9.20404439,   5.76532404, -35.96346397, -13.02389273,\n",
       "       -54.87487853, -41.61763291,   5.93737333, -79.11921315,\n",
       "       -16.0140208 , -19.72189555, -10.96333429, -42.55207167,\n",
       "       -19.70957282, -16.2050307 , -18.68732972, -17.94402756,\n",
       "        -7.17460886, -20.54727742, -16.81068801, -70.6902946 ,\n",
       "        -9.81776907, -32.87037479, -18.97769996, -21.37931227,\n",
       "       -25.15047892, -17.10979369, -13.52371844, -23.76119248,\n",
       "        11.36507415, -14.50017774, -33.86300249, -13.71702046,\n",
       "       -50.52171847, -20.26632897, -56.12696675, -29.24269431,\n",
       "       -22.10083118, -31.39322187, -68.99341178, -60.34420329,\n",
       "        14.35286813,   8.6950828 , -25.31399925,   2.38294909,\n",
       "         5.04572417, -19.56492516, -59.19922322, -10.05788653,\n",
       "       -29.66208807, -27.40193112,   6.13015832, -80.46965068,\n",
       "       -34.87538491, -49.84646902, -36.03964295, -48.50250667,\n",
       "       -19.96807174, -62.05772763,  -3.23794049, -25.32909621,\n",
       "       -65.14033524,  -9.42731672, -23.31743688,  19.38626298,\n",
       "       -18.84544854,  -4.47308765, -13.77208008, -21.88092087,\n",
       "       -43.41397474, -51.85063281, -28.83913235, -13.90476402,\n",
       "        -2.51953684,  -6.1601782 ,   3.14869512, -15.33995022,\n",
       "       -41.16627206, -25.89746514,  14.30196679, -17.88815965,\n",
       "        14.67462688, -33.65791482,   4.82448978, -14.42660931,\n",
       "       -54.22945041, -50.49125597, -30.54682593, -38.72564515,\n",
       "       -23.46176584, -24.8771757 , -14.50555236, -23.72453171,\n",
       "       -28.07008985, -19.63714711, -28.66181794, -20.37689485,\n",
       "       -32.16744493, -11.15574077, -17.95923411, -24.54353858,\n",
       "       -24.6083186 ,  10.73691999, -16.68582419, -38.50773258,\n",
       "       -15.87674576, -37.05234924, -15.79367605, -68.69482528,\n",
       "       -33.64809025, -43.60839191, -28.74748076,  -9.8898976 ,\n",
       "       -67.1645412 , -33.4988169 , -45.89914318, -14.36736927,\n",
       "       -38.28988722, -14.76246311, -70.44233347, -11.19629861,\n",
       "       -41.46528048, -32.38989531, -20.86065476, -27.6898161 ,\n",
       "       -16.06078593, -31.96317626,  -8.48420071, -22.1045058 ,\n",
       "       -34.06026678, -12.47050408, -36.15120704, -36.57954879,\n",
       "       -22.46157567,   4.47538643, -20.80765405,  -3.75031557,\n",
       "       -20.31646815, -32.67824564, -41.10706798, -25.46016544,\n",
       "       -19.73667429, -47.83297227, -29.85781719, -45.24585653,\n",
       "       -71.65700609,  -5.93564389, -32.93706199,   1.89667246,\n",
       "        11.7638498 ,   7.35782386, -30.93186117, -63.94238331,\n",
       "       -23.41434164,  -5.43421618, -33.46407632, -24.11268566,\n",
       "       -67.49718207, -34.30052899, -34.23317206, -31.61584807,\n",
       "       -52.86791724, -22.89218002,  -8.16022279, -17.73973169,\n",
       "       -26.98682481, -32.38760602, -28.96085425, -67.25180763,\n",
       "       -46.49552296, -16.11284633])"
      ]
     },
     "execution_count": 9,
     "metadata": {},
     "output_type": "execute_result"
    }
   ],
   "source": [
    "log_reg.decision_function(X_test)"
   ]
  },
  {
   "cell_type": "code",
   "execution_count": 10,
   "metadata": {},
   "outputs": [
    {
     "data": {
      "text/plain": [
       "array([-22.05698719, -33.02937778, -16.21333279, -80.37915403,\n",
       "       -48.25127619, -24.54005982, -44.39172138, -25.0429207 ,\n",
       "        -0.9782989 , -19.71745295])"
      ]
     },
     "execution_count": 10,
     "metadata": {},
     "output_type": "execute_result"
    }
   ],
   "source": [
    "log_reg.decision_function(X_test)[:10]"
   ]
  },
  {
   "cell_type": "code",
   "execution_count": 11,
   "metadata": {},
   "outputs": [
    {
     "data": {
      "text/plain": [
       "array([0, 0, 0, 0, 0, 0, 0, 0, 0, 0])"
      ]
     },
     "execution_count": 11,
     "metadata": {},
     "output_type": "execute_result"
    }
   ],
   "source": [
    "log_reg.predict(X_test)[:10]"
   ]
  },
  {
   "cell_type": "code",
   "execution_count": 12,
   "metadata": {},
   "outputs": [],
   "source": [
    "decision_scores = log_reg.decision_function(X_test)"
   ]
  },
  {
   "cell_type": "code",
   "execution_count": 13,
   "metadata": {},
   "outputs": [
    {
     "data": {
      "text/plain": [
       "-85.68605733401593"
      ]
     },
     "execution_count": 13,
     "metadata": {},
     "output_type": "execute_result"
    }
   ],
   "source": [
    "np.min(decision_scores)"
   ]
  },
  {
   "cell_type": "code",
   "execution_count": 14,
   "metadata": {},
   "outputs": [
    {
     "data": {
      "text/plain": [
       "19.88956556899649"
      ]
     },
     "execution_count": 14,
     "metadata": {},
     "output_type": "execute_result"
    }
   ],
   "source": [
    "np.max(decision_scores)"
   ]
  },
  {
   "cell_type": "code",
   "execution_count": 15,
   "metadata": {},
   "outputs": [],
   "source": [
    "y_predict_2 = np.array(decision_scores >= 5, dtype = 'int')"
   ]
  },
  {
   "cell_type": "code",
   "execution_count": 16,
   "metadata": {},
   "outputs": [
    {
     "data": {
      "text/plain": [
       "array([[404,   1],\n",
       "       [ 21,  24]], dtype=int64)"
      ]
     },
     "execution_count": 16,
     "metadata": {},
     "output_type": "execute_result"
    }
   ],
   "source": [
    "confusion_matrix(y_test, y_predict_2)"
   ]
  },
  {
   "cell_type": "code",
   "execution_count": 17,
   "metadata": {},
   "outputs": [
    {
     "data": {
      "text/plain": [
       "0.6857142857142858"
      ]
     },
     "execution_count": 17,
     "metadata": {},
     "output_type": "execute_result"
    }
   ],
   "source": [
    "f1_score(y_test, y_predict_2)"
   ]
  },
  {
   "cell_type": "code",
   "execution_count": 18,
   "metadata": {},
   "outputs": [
    {
     "data": {
      "text/plain": [
       "0.96"
      ]
     },
     "execution_count": 18,
     "metadata": {},
     "output_type": "execute_result"
    }
   ],
   "source": [
    "precision_score(y_test, y_predict_2)"
   ]
  },
  {
   "cell_type": "code",
   "execution_count": 19,
   "metadata": {},
   "outputs": [
    {
     "data": {
      "text/plain": [
       "0.5333333333333333"
      ]
     },
     "execution_count": 19,
     "metadata": {},
     "output_type": "execute_result"
    }
   ],
   "source": [
    "recall_score(y_test, y_predict_2)"
   ]
  },
  {
   "cell_type": "code",
   "execution_count": 20,
   "metadata": {},
   "outputs": [],
   "source": [
    "y_predict_3 = np.array(decision_scores >= -5, dtype = 'int')"
   ]
  },
  {
   "cell_type": "code",
   "execution_count": 21,
   "metadata": {},
   "outputs": [
    {
     "data": {
      "text/plain": [
       "array([[390,  15],\n",
       "       [  5,  40]], dtype=int64)"
      ]
     },
     "execution_count": 21,
     "metadata": {},
     "output_type": "execute_result"
    }
   ],
   "source": [
    "confusion_matrix(y_test, y_predict_3)"
   ]
  },
  {
   "cell_type": "code",
   "execution_count": 22,
   "metadata": {},
   "outputs": [
    {
     "data": {
      "text/plain": [
       "0.7999999999999999"
      ]
     },
     "execution_count": 22,
     "metadata": {},
     "output_type": "execute_result"
    }
   ],
   "source": [
    "f1_score(y_test, y_predict_3)"
   ]
  },
  {
   "cell_type": "code",
   "execution_count": 23,
   "metadata": {},
   "outputs": [
    {
     "data": {
      "text/plain": [
       "0.7272727272727273"
      ]
     },
     "execution_count": 23,
     "metadata": {},
     "output_type": "execute_result"
    }
   ],
   "source": [
    "precision_score(y_test, y_predict_3)"
   ]
  },
  {
   "cell_type": "code",
   "execution_count": 24,
   "metadata": {},
   "outputs": [
    {
     "data": {
      "text/plain": [
       "0.8888888888888888"
      ]
     },
     "execution_count": 24,
     "metadata": {},
     "output_type": "execute_result"
    }
   ],
   "source": [
    "recall_score(y_test, y_predict_3)"
   ]
  },
  {
   "cell_type": "code",
   "execution_count": null,
   "metadata": {},
   "outputs": [],
   "source": []
  }
 ],
 "metadata": {
  "kernelspec": {
   "display_name": "Python 3",
   "language": "python",
   "name": "python3"
  },
  "language_info": {
   "codemirror_mode": {
    "name": "ipython",
    "version": 3
   },
   "file_extension": ".py",
   "mimetype": "text/x-python",
   "name": "python",
   "nbconvert_exporter": "python",
   "pygments_lexer": "ipython3",
   "version": "3.7.1rc2"
  }
 },
 "nbformat": 4,
 "nbformat_minor": 2
}

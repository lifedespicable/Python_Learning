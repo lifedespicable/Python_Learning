{
 "cells": [
  {
   "cell_type": "markdown",
   "metadata": {},
   "source": [
    "### 数据归一化处理"
   ]
  },
  {
   "cell_type": "code",
   "execution_count": 2,
   "metadata": {},
   "outputs": [],
   "source": [
    "import numpy as np\n",
    "import matplotlib.pyplot as plt\n",
    "import matplotlib as mpl"
   ]
  },
  {
   "cell_type": "markdown",
   "metadata": {},
   "source": [
    "### 最值归一化 Normalization"
   ]
  },
  {
   "cell_type": "code",
   "execution_count": 3,
   "metadata": {},
   "outputs": [
    {
     "data": {
      "text/plain": [
       "array([80,  2, 15, 15, 25,  9, 86, 74, 71, 53, 54, 70, 13, 95,  2, 97, 67,\n",
       "        8, 73,  7, 23, 84, 72,  4, 19, 98, 33,  5, 81, 47, 53, 46,  7,  0,\n",
       "       15, 71, 88, 84, 95, 89, 32, 87, 40, 50, 28, 87, 65, 17, 56,  5, 81,\n",
       "       90, 93,  4, 84, 52, 84, 12, 80, 68, 99, 45, 45,  6, 69, 76, 72, 20,\n",
       "       10, 51, 54, 79, 69, 57, 97, 21, 59, 17, 46, 67, 14,  6, 14, 24, 17,\n",
       "       63, 93, 82, 91, 88, 13, 33, 57, 85, 74, 19,  2, 59, 85, 66])"
      ]
     },
     "execution_count": 3,
     "metadata": {},
     "output_type": "execute_result"
    }
   ],
   "source": [
    "# feature scaling 就是特征缩放，也就是数据归一化的处理\n",
    "x = np.random.randint(0, 100, size = 100)\n",
    "x"
   ]
  },
  {
   "cell_type": "code",
   "execution_count": 4,
   "metadata": {},
   "outputs": [
    {
     "data": {
      "text/plain": [
       "(100,)"
      ]
     },
     "execution_count": 4,
     "metadata": {},
     "output_type": "execute_result"
    }
   ],
   "source": [
    "x.shape"
   ]
  },
  {
   "cell_type": "code",
   "execution_count": 5,
   "metadata": {},
   "outputs": [
    {
     "data": {
      "text/plain": [
       "[0.8080808080808081,\n",
       " 0.020202020202020204,\n",
       " 0.15151515151515152,\n",
       " 0.15151515151515152,\n",
       " 0.25252525252525254,\n",
       " 0.09090909090909091,\n",
       " 0.8686868686868687,\n",
       " 0.7474747474747475,\n",
       " 0.7171717171717171,\n",
       " 0.5353535353535354,\n",
       " 0.5454545454545454,\n",
       " 0.7070707070707071,\n",
       " 0.13131313131313133,\n",
       " 0.9595959595959596,\n",
       " 0.020202020202020204,\n",
       " 0.9797979797979798,\n",
       " 0.6767676767676768,\n",
       " 0.08080808080808081,\n",
       " 0.7373737373737373,\n",
       " 0.0707070707070707,\n",
       " 0.23232323232323232,\n",
       " 0.8484848484848485,\n",
       " 0.7272727272727273,\n",
       " 0.04040404040404041,\n",
       " 0.1919191919191919,\n",
       " 0.98989898989899,\n",
       " 0.3333333333333333,\n",
       " 0.050505050505050504,\n",
       " 0.8181818181818182,\n",
       " 0.47474747474747475,\n",
       " 0.5353535353535354,\n",
       " 0.46464646464646464,\n",
       " 0.0707070707070707,\n",
       " 0.0,\n",
       " 0.15151515151515152,\n",
       " 0.7171717171717171,\n",
       " 0.8888888888888888,\n",
       " 0.8484848484848485,\n",
       " 0.9595959595959596,\n",
       " 0.898989898989899,\n",
       " 0.32323232323232326,\n",
       " 0.8787878787878788,\n",
       " 0.40404040404040403,\n",
       " 0.5050505050505051,\n",
       " 0.2828282828282828,\n",
       " 0.8787878787878788,\n",
       " 0.6565656565656566,\n",
       " 0.1717171717171717,\n",
       " 0.5656565656565656,\n",
       " 0.050505050505050504,\n",
       " 0.8181818181818182,\n",
       " 0.9090909090909091,\n",
       " 0.9393939393939394,\n",
       " 0.04040404040404041,\n",
       " 0.8484848484848485,\n",
       " 0.5252525252525253,\n",
       " 0.8484848484848485,\n",
       " 0.12121212121212122,\n",
       " 0.8080808080808081,\n",
       " 0.6868686868686869,\n",
       " 1.0,\n",
       " 0.45454545454545453,\n",
       " 0.45454545454545453,\n",
       " 0.06060606060606061,\n",
       " 0.696969696969697,\n",
       " 0.7676767676767676,\n",
       " 0.7272727272727273,\n",
       " 0.20202020202020202,\n",
       " 0.10101010101010101,\n",
       " 0.5151515151515151,\n",
       " 0.5454545454545454,\n",
       " 0.797979797979798,\n",
       " 0.696969696969697,\n",
       " 0.5757575757575758,\n",
       " 0.9797979797979798,\n",
       " 0.21212121212121213,\n",
       " 0.5959595959595959,\n",
       " 0.1717171717171717,\n",
       " 0.46464646464646464,\n",
       " 0.6767676767676768,\n",
       " 0.1414141414141414,\n",
       " 0.06060606060606061,\n",
       " 0.1414141414141414,\n",
       " 0.24242424242424243,\n",
       " 0.1717171717171717,\n",
       " 0.6363636363636364,\n",
       " 0.9393939393939394,\n",
       " 0.8282828282828283,\n",
       " 0.9191919191919192,\n",
       " 0.8888888888888888,\n",
       " 0.13131313131313133,\n",
       " 0.3333333333333333,\n",
       " 0.5757575757575758,\n",
       " 0.8585858585858586,\n",
       " 0.7474747474747475,\n",
       " 0.1919191919191919,\n",
       " 0.020202020202020204,\n",
       " 0.5959595959595959,\n",
       " 0.8585858585858586,\n",
       " 0.6666666666666666]"
      ]
     },
     "execution_count": 5,
     "metadata": {},
     "output_type": "execute_result"
    }
   ],
   "source": [
    "[(y - np.min(x)) / (np.max(x) - np.min(x)) for y in x]"
   ]
  },
  {
   "cell_type": "code",
   "execution_count": 7,
   "metadata": {},
   "outputs": [
    {
     "data": {
      "text/plain": [
       "array([0.80808081, 0.02020202, 0.15151515, 0.15151515, 0.25252525,\n",
       "       0.09090909, 0.86868687, 0.74747475, 0.71717172, 0.53535354,\n",
       "       0.54545455, 0.70707071, 0.13131313, 0.95959596, 0.02020202,\n",
       "       0.97979798, 0.67676768, 0.08080808, 0.73737374, 0.07070707,\n",
       "       0.23232323, 0.84848485, 0.72727273, 0.04040404, 0.19191919,\n",
       "       0.98989899, 0.33333333, 0.05050505, 0.81818182, 0.47474747,\n",
       "       0.53535354, 0.46464646, 0.07070707, 0.        , 0.15151515,\n",
       "       0.71717172, 0.88888889, 0.84848485, 0.95959596, 0.8989899 ,\n",
       "       0.32323232, 0.87878788, 0.4040404 , 0.50505051, 0.28282828,\n",
       "       0.87878788, 0.65656566, 0.17171717, 0.56565657, 0.05050505,\n",
       "       0.81818182, 0.90909091, 0.93939394, 0.04040404, 0.84848485,\n",
       "       0.52525253, 0.84848485, 0.12121212, 0.80808081, 0.68686869,\n",
       "       1.        , 0.45454545, 0.45454545, 0.06060606, 0.6969697 ,\n",
       "       0.76767677, 0.72727273, 0.2020202 , 0.1010101 , 0.51515152,\n",
       "       0.54545455, 0.7979798 , 0.6969697 , 0.57575758, 0.97979798,\n",
       "       0.21212121, 0.5959596 , 0.17171717, 0.46464646, 0.67676768,\n",
       "       0.14141414, 0.06060606, 0.14141414, 0.24242424, 0.17171717,\n",
       "       0.63636364, 0.93939394, 0.82828283, 0.91919192, 0.88888889,\n",
       "       0.13131313, 0.33333333, 0.57575758, 0.85858586, 0.74747475,\n",
       "       0.19191919, 0.02020202, 0.5959596 , 0.85858586, 0.66666667])"
      ]
     },
     "execution_count": 7,
     "metadata": {},
     "output_type": "execute_result"
    }
   ],
   "source": [
    "(x - np.min(x)) / (np.max(x) - np.min(x))"
   ]
  },
  {
   "cell_type": "code",
   "execution_count": 8,
   "metadata": {},
   "outputs": [
    {
     "data": {
      "text/plain": [
       "array([[85, 99],\n",
       "       [31, 27],\n",
       "       [95,  6],\n",
       "       [ 4, 74],\n",
       "       [15, 76],\n",
       "       [ 0, 25],\n",
       "       [10, 77],\n",
       "       [33, 21],\n",
       "       [97, 81],\n",
       "       [84,  2],\n",
       "       [91, 56],\n",
       "       [69, 75],\n",
       "       [80, 41],\n",
       "       [15, 83],\n",
       "       [53, 63],\n",
       "       [19, 97],\n",
       "       [32, 94],\n",
       "       [ 0, 60],\n",
       "       [65, 85],\n",
       "       [ 4,  2],\n",
       "       [83, 64],\n",
       "       [88, 31],\n",
       "       [43, 82],\n",
       "       [58, 69],\n",
       "       [10,  3],\n",
       "       [26, 80],\n",
       "       [45,  6],\n",
       "       [25, 50],\n",
       "       [28,  8],\n",
       "       [ 8, 68],\n",
       "       [55,  6],\n",
       "       [17, 48],\n",
       "       [87, 80],\n",
       "       [33, 84],\n",
       "       [70, 95],\n",
       "       [40, 51],\n",
       "       [96, 57],\n",
       "       [75, 11],\n",
       "       [45,  0],\n",
       "       [80, 80],\n",
       "       [ 1, 59],\n",
       "       [67, 39],\n",
       "       [71, 26],\n",
       "       [29, 73],\n",
       "       [ 6, 68],\n",
       "       [82, 61],\n",
       "       [93, 74],\n",
       "       [76, 75],\n",
       "       [94, 84],\n",
       "       [ 4, 39]])"
      ]
     },
     "execution_count": 8,
     "metadata": {},
     "output_type": "execute_result"
    }
   ],
   "source": [
    "X = np.random.randint(0, 100, size = (50, 2))\n",
    "X"
   ]
  },
  {
   "cell_type": "code",
   "execution_count": 9,
   "metadata": {},
   "outputs": [
    {
     "data": {
      "text/plain": [
       "array([[85, 99],\n",
       "       [31, 27],\n",
       "       [95,  6],\n",
       "       [ 4, 74],\n",
       "       [15, 76],\n",
       "       [ 0, 25],\n",
       "       [10, 77],\n",
       "       [33, 21],\n",
       "       [97, 81],\n",
       "       [84,  2]])"
      ]
     },
     "execution_count": 9,
     "metadata": {},
     "output_type": "execute_result"
    }
   ],
   "source": [
    "X[:10, :]"
   ]
  },
  {
   "cell_type": "code",
   "execution_count": 15,
   "metadata": {},
   "outputs": [
    {
     "data": {
      "text/plain": [
       "array([[85., 99.],\n",
       "       [31., 27.],\n",
       "       [95.,  6.],\n",
       "       [ 4., 74.],\n",
       "       [15., 76.],\n",
       "       [ 0., 25.],\n",
       "       [10., 77.],\n",
       "       [33., 21.],\n",
       "       [97., 81.],\n",
       "       [84.,  2.],\n",
       "       [91., 56.],\n",
       "       [69., 75.],\n",
       "       [80., 41.],\n",
       "       [15., 83.],\n",
       "       [53., 63.],\n",
       "       [19., 97.],\n",
       "       [32., 94.],\n",
       "       [ 0., 60.],\n",
       "       [65., 85.],\n",
       "       [ 4.,  2.],\n",
       "       [83., 64.],\n",
       "       [88., 31.],\n",
       "       [43., 82.],\n",
       "       [58., 69.],\n",
       "       [10.,  3.],\n",
       "       [26., 80.],\n",
       "       [45.,  6.],\n",
       "       [25., 50.],\n",
       "       [28.,  8.],\n",
       "       [ 8., 68.],\n",
       "       [55.,  6.],\n",
       "       [17., 48.],\n",
       "       [87., 80.],\n",
       "       [33., 84.],\n",
       "       [70., 95.],\n",
       "       [40., 51.],\n",
       "       [96., 57.],\n",
       "       [75., 11.],\n",
       "       [45.,  0.],\n",
       "       [80., 80.],\n",
       "       [ 1., 59.],\n",
       "       [67., 39.],\n",
       "       [71., 26.],\n",
       "       [29., 73.],\n",
       "       [ 6., 68.],\n",
       "       [82., 61.],\n",
       "       [93., 74.],\n",
       "       [76., 75.],\n",
       "       [94., 84.],\n",
       "       [ 4., 39.]])"
      ]
     },
     "execution_count": 15,
     "metadata": {},
     "output_type": "execute_result"
    }
   ],
   "source": [
    "# 强制将 X 从整型数组转化为浮点数的数组\n",
    "X = np.array(X, dtype = float)\n",
    "X"
   ]
  },
  {
   "cell_type": "code",
   "execution_count": 16,
   "metadata": {},
   "outputs": [
    {
     "data": {
      "text/plain": [
       "array([[85., 99.],\n",
       "       [31., 27.],\n",
       "       [95.,  6.],\n",
       "       [ 4., 74.],\n",
       "       [15., 76.],\n",
       "       [ 0., 25.],\n",
       "       [10., 77.],\n",
       "       [33., 21.],\n",
       "       [97., 81.],\n",
       "       [84.,  2.]])"
      ]
     },
     "execution_count": 16,
     "metadata": {},
     "output_type": "execute_result"
    }
   ],
   "source": [
    "X[:10, :]"
   ]
  },
  {
   "cell_type": "code",
   "execution_count": 17,
   "metadata": {},
   "outputs": [
    {
     "data": {
      "text/plain": [
       "array([0.87628866, 0.31958763, 0.97938144, 0.04123711, 0.15463918,\n",
       "       0.        , 0.10309278, 0.34020619, 1.        , 0.86597938,\n",
       "       0.93814433, 0.71134021, 0.82474227, 0.15463918, 0.54639175,\n",
       "       0.19587629, 0.32989691, 0.        , 0.67010309, 0.04123711,\n",
       "       0.8556701 , 0.90721649, 0.44329897, 0.59793814, 0.10309278,\n",
       "       0.26804124, 0.46391753, 0.25773196, 0.28865979, 0.08247423,\n",
       "       0.56701031, 0.17525773, 0.89690722, 0.34020619, 0.72164948,\n",
       "       0.41237113, 0.98969072, 0.77319588, 0.46391753, 0.82474227,\n",
       "       0.01030928, 0.69072165, 0.73195876, 0.29896907, 0.06185567,\n",
       "       0.84536082, 0.95876289, 0.78350515, 0.96907216, 0.04123711])"
      ]
     },
     "execution_count": 17,
     "metadata": {},
     "output_type": "execute_result"
    }
   ],
   "source": [
    "# 此时进行最值归一化处理就是指的是对每一个特征的维度进行归一化处理\n",
    "X[:, 0] = (X[:, 0] - np.min(X[:, 0])) / (np.max(X[:, 0]) - np.min(X[:, 0]))\n",
    "X[:, 0]"
   ]
  },
  {
   "cell_type": "code",
   "execution_count": 18,
   "metadata": {},
   "outputs": [
    {
     "data": {
      "text/plain": [
       "array([1.        , 0.27272727, 0.06060606, 0.74747475, 0.76767677,\n",
       "       0.25252525, 0.77777778, 0.21212121, 0.81818182, 0.02020202,\n",
       "       0.56565657, 0.75757576, 0.41414141, 0.83838384, 0.63636364,\n",
       "       0.97979798, 0.94949495, 0.60606061, 0.85858586, 0.02020202,\n",
       "       0.64646465, 0.31313131, 0.82828283, 0.6969697 , 0.03030303,\n",
       "       0.80808081, 0.06060606, 0.50505051, 0.08080808, 0.68686869,\n",
       "       0.06060606, 0.48484848, 0.80808081, 0.84848485, 0.95959596,\n",
       "       0.51515152, 0.57575758, 0.11111111, 0.        , 0.80808081,\n",
       "       0.5959596 , 0.39393939, 0.26262626, 0.73737374, 0.68686869,\n",
       "       0.61616162, 0.74747475, 0.75757576, 0.84848485, 0.39393939])"
      ]
     },
     "execution_count": 18,
     "metadata": {},
     "output_type": "execute_result"
    }
   ],
   "source": [
    "X[:, 1] = (X[:, 1] - np.min(X[:, 1])) / (np.max(X[:, 1]) - np.min(X[:, 1]))\n",
    "X[:, 1]"
   ]
  },
  {
   "cell_type": "code",
   "execution_count": 20,
   "metadata": {},
   "outputs": [
    {
     "data": {
      "text/plain": [
       "array([[0.87628866, 1.        ],\n",
       "       [0.31958763, 0.27272727],\n",
       "       [0.97938144, 0.06060606],\n",
       "       [0.04123711, 0.74747475],\n",
       "       [0.15463918, 0.76767677],\n",
       "       [0.        , 0.25252525],\n",
       "       [0.10309278, 0.77777778],\n",
       "       [0.34020619, 0.21212121],\n",
       "       [1.        , 0.81818182],\n",
       "       [0.86597938, 0.02020202],\n",
       "       [0.93814433, 0.56565657],\n",
       "       [0.71134021, 0.75757576],\n",
       "       [0.82474227, 0.41414141],\n",
       "       [0.15463918, 0.83838384],\n",
       "       [0.54639175, 0.63636364],\n",
       "       [0.19587629, 0.97979798],\n",
       "       [0.32989691, 0.94949495],\n",
       "       [0.        , 0.60606061],\n",
       "       [0.67010309, 0.85858586],\n",
       "       [0.04123711, 0.02020202],\n",
       "       [0.8556701 , 0.64646465],\n",
       "       [0.90721649, 0.31313131],\n",
       "       [0.44329897, 0.82828283],\n",
       "       [0.59793814, 0.6969697 ],\n",
       "       [0.10309278, 0.03030303],\n",
       "       [0.26804124, 0.80808081],\n",
       "       [0.46391753, 0.06060606],\n",
       "       [0.25773196, 0.50505051],\n",
       "       [0.28865979, 0.08080808],\n",
       "       [0.08247423, 0.68686869],\n",
       "       [0.56701031, 0.06060606],\n",
       "       [0.17525773, 0.48484848],\n",
       "       [0.89690722, 0.80808081],\n",
       "       [0.34020619, 0.84848485],\n",
       "       [0.72164948, 0.95959596],\n",
       "       [0.41237113, 0.51515152],\n",
       "       [0.98969072, 0.57575758],\n",
       "       [0.77319588, 0.11111111],\n",
       "       [0.46391753, 0.        ],\n",
       "       [0.82474227, 0.80808081],\n",
       "       [0.01030928, 0.5959596 ],\n",
       "       [0.69072165, 0.39393939],\n",
       "       [0.73195876, 0.26262626],\n",
       "       [0.29896907, 0.73737374],\n",
       "       [0.06185567, 0.68686869],\n",
       "       [0.84536082, 0.61616162],\n",
       "       [0.95876289, 0.74747475],\n",
       "       [0.78350515, 0.75757576],\n",
       "       [0.96907216, 0.84848485],\n",
       "       [0.04123711, 0.39393939]])"
      ]
     },
     "execution_count": 20,
     "metadata": {},
     "output_type": "execute_result"
    }
   ],
   "source": [
    "X"
   ]
  },
  {
   "cell_type": "code",
   "execution_count": 21,
   "metadata": {},
   "outputs": [
    {
     "data": {
      "text/plain": [
       "array([[0.87628866, 1.        ],\n",
       "       [0.31958763, 0.27272727],\n",
       "       [0.97938144, 0.06060606],\n",
       "       [0.04123711, 0.74747475],\n",
       "       [0.15463918, 0.76767677],\n",
       "       [0.        , 0.25252525],\n",
       "       [0.10309278, 0.77777778],\n",
       "       [0.34020619, 0.21212121],\n",
       "       [1.        , 0.81818182],\n",
       "       [0.86597938, 0.02020202]])"
      ]
     },
     "execution_count": 21,
     "metadata": {},
     "output_type": "execute_result"
    }
   ],
   "source": [
    "X[:10, :]"
   ]
  },
  {
   "cell_type": "code",
   "execution_count": 22,
   "metadata": {},
   "outputs": [
    {
     "data": {
      "text/plain": [
       "<matplotlib.collections.PathCollection at 0x219fdcb6780>"
      ]
     },
     "execution_count": 22,
     "metadata": {},
     "output_type": "execute_result"
    },
    {
     "data": {
      "image/png": "[encoded data removed]",
      "text/plain": [
       "<Figure size 432x288 with 1 Axes>"
      ]
     },
     "metadata": {
      "needs_background": "light"
     },
     "output_type": "display_data"
    }
   ],
   "source": [
    "# 如果有多个特征的维度的话，直接写一个 for 循环就行了 \n",
    "plt.scatter(X[:, 0], X[:, 1], color = 'red')"
   ]
  },
  {
   "cell_type": "code",
   "execution_count": 23,
   "metadata": {},
   "outputs": [
    {
     "data": {
      "text/plain": [
       "0.4983505154639175"
      ]
     },
     "execution_count": 23,
     "metadata": {},
     "output_type": "execute_result"
    }
   ],
   "source": [
    "np.mean(X[:, 0])"
   ]
  },
  {
   "cell_type": "code",
   "execution_count": 24,
   "metadata": {},
   "outputs": [
    {
     "data": {
      "text/plain": [
       "0.5484848484848485"
      ]
     },
     "execution_count": 24,
     "metadata": {},
     "output_type": "execute_result"
    }
   ],
   "source": [
    "np.mean(X[:, 1])"
   ]
  },
  {
   "cell_type": "code",
   "execution_count": 25,
   "metadata": {},
   "outputs": [
    {
     "data": {
      "text/plain": [
       "0.3344950811212218"
      ]
     },
     "execution_count": 25,
     "metadata": {},
     "output_type": "execute_result"
    }
   ],
   "source": [
    "# 求标准差\n",
    "np.std(X[:, 0])"
   ]
  },
  {
   "cell_type": "code",
   "execution_count": 26,
   "metadata": {},
   "outputs": [
    {
     "data": {
      "text/plain": [
       "0.11188695929429272"
      ]
     },
     "execution_count": 26,
     "metadata": {},
     "output_type": "execute_result"
    }
   ],
   "source": [
    "# 求方差\n",
    "np.var(X[:, 0])"
   ]
  },
  {
   "cell_type": "code",
   "execution_count": 27,
   "metadata": {},
   "outputs": [
    {
     "data": {
      "text/plain": [
       "0.5484848484848485"
      ]
     },
     "execution_count": 27,
     "metadata": {},
     "output_type": "execute_result"
    }
   ],
   "source": [
    "np.mean(X[:, 1])"
   ]
  },
  {
   "cell_type": "code",
   "execution_count": 29,
   "metadata": {},
   "outputs": [
    {
     "data": {
      "text/plain": [
       "0.3021012694821933"
      ]
     },
     "execution_count": 29,
     "metadata": {},
     "output_type": "execute_result"
    }
   ],
   "source": [
    "np.std(X[:, 1])"
   ]
  },
  {
   "cell_type": "code",
   "execution_count": 30,
   "metadata": {},
   "outputs": [
    {
     "data": {
      "text/plain": [
       "0.0038261239239026465"
      ]
     },
     "execution_count": 30,
     "metadata": {},
     "output_type": "execute_result"
    }
   ],
   "source": [
    "np.var(X[: 1])"
   ]
  },
  {
   "cell_type": "markdown",
   "metadata": {},
   "source": [
    "### 均值方差归一化 Standardization"
   ]
  },
  {
   "cell_type": "code",
   "execution_count": 32,
   "metadata": {},
   "outputs": [],
   "source": [
    "# 使用均值方差归一化的方法，它的本质是将所有的数据的均值（中心值）都放在 0 这个位置，\n",
    "# 而分布的幅度（方差）放在了 1 这个位置\n",
    "X2 = np.random.randint(0, 100, size = (50, 2))"
   ]
  },
  {
   "cell_type": "code",
   "execution_count": 33,
   "metadata": {},
   "outputs": [],
   "source": [
    "X2 = np.array(X2, dtype = float)"
   ]
  },
  {
   "cell_type": "code",
   "execution_count": 39,
   "metadata": {},
   "outputs": [],
   "source": [
    "X2[:, 0] = (X2[:, 0] - np.mean(X2[:, 0])) / np.std(X2[:, 0])"
   ]
  },
  {
   "cell_type": "code",
   "execution_count": 40,
   "metadata": {},
   "outputs": [],
   "source": [
    "X2[:, 1] = (X2[:, 1] - np.mean(X2[:, 1])) / np.std(X2[:, 1])"
   ]
  },
  {
   "cell_type": "code",
   "execution_count": 42,
   "metadata": {},
   "outputs": [
    {
     "data": {
      "text/plain": [
       "<matplotlib.collections.PathCollection at 0x219fe2d1470>"
      ]
     },
     "execution_count": 42,
     "metadata": {},
     "output_type": "execute_result"
    },
    {
     "data": {
      "image/png": "[encoded data removed]",
      "text/plain": [
       "<Figure size 432x288 with 1 Axes>"
      ]
     },
     "metadata": {
      "needs_background": "light"
     },
     "output_type": "display_data"
    }
   ],
   "source": [
    "plt.scatter(X2[:, 0], X2[:, 1], color = 'red')"
   ]
  },
  {
   "cell_type": "code",
   "execution_count": 44,
   "metadata": {},
   "outputs": [
    {
     "data": {
      "text/plain": [
       "4.4408920985006264e-17"
      ]
     },
     "execution_count": 44,
     "metadata": {},
     "output_type": "execute_result"
    }
   ],
   "source": [
    "np.mean(X2[:, 0])"
   ]
  },
  {
   "cell_type": "code",
   "execution_count": 45,
   "metadata": {},
   "outputs": [
    {
     "data": {
      "text/plain": [
       "3.0808688933348097e-17"
      ]
     },
     "execution_count": 45,
     "metadata": {},
     "output_type": "execute_result"
    }
   ],
   "source": [
    "np.mean(X2[:, 1])"
   ]
  },
  {
   "cell_type": "code",
   "execution_count": 46,
   "metadata": {},
   "outputs": [
    {
     "data": {
      "text/plain": [
       "1.0000000000000002"
      ]
     },
     "execution_count": 46,
     "metadata": {},
     "output_type": "execute_result"
    }
   ],
   "source": [
    "np.std(X2[:, 0])"
   ]
  },
  {
   "cell_type": "code",
   "execution_count": 47,
   "metadata": {},
   "outputs": [
    {
     "data": {
      "text/plain": [
       "1.0"
      ]
     },
     "execution_count": 47,
     "metadata": {},
     "output_type": "execute_result"
    }
   ],
   "source": [
    "np.std(X2[:, 1])"
   ]
  },
  {
   "cell_type": "code",
   "execution_count": 48,
   "metadata": {},
   "outputs": [
    {
     "data": {
      "text/plain": [
       "1.0000000000000004"
      ]
     },
     "execution_count": 48,
     "metadata": {},
     "output_type": "execute_result"
    }
   ],
   "source": [
    "np.var(X2[:, 0])"
   ]
  },
  {
   "cell_type": "code",
   "execution_count": 49,
   "metadata": {},
   "outputs": [
    {
     "data": {
      "text/plain": [
       "1.0000000000000002"
      ]
     },
     "execution_count": 49,
     "metadata": {},
     "output_type": "execute_result"
    }
   ],
   "source": [
    "np.var(X2[:, 1])"
   ]
  },
  {
   "cell_type": "code",
   "execution_count": null,
   "metadata": {},
   "outputs": [],
   "source": []
  }
 ],
 "metadata": {
  "kernelspec": {
   "display_name": "Python 3",
   "language": "python",
   "name": "python3"
  },
  "language_info": {
   "codemirror_mode": {
    "name": "ipython",
    "version": 3
   },
   "file_extension": ".py",
   "mimetype": "text/x-python",
   "name": "python",
   "nbconvert_exporter": "python",
   "pygments_lexer": "ipython3",
   "version": "3.7.3"
  }
 },
 "nbformat": 4,
 "nbformat_minor": 2
}

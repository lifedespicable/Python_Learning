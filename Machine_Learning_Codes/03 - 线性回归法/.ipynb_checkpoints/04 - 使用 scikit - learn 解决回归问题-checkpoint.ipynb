{
 "cells": [
  {
   "cell_type": "markdown",
   "metadata": {},
   "source": [
    "### scikit - learn 中的回归问题"
   ]
  },
  {
   "cell_type": "code",
   "execution_count": 2,
   "metadata": {},
   "outputs": [],
   "source": [
    "import numpy as np\n",
    "import matplotlib.pyplot as plt\n",
    "import matplotlib as mpl\n",
    "from sklearn import datasets"
   ]
  },
  {
   "cell_type": "code",
   "execution_count": 3,
   "metadata": {},
   "outputs": [],
   "source": [
    "boston = datasets.load_boston()\n",
    "\n",
    "X = boston.data\n",
    "y = boston.target\n",
    "\n",
    "X = X[y < 50.0]\n",
    "y = y[y < 50.0]"
   ]
  },
  {
   "cell_type": "code",
   "execution_count": 4,
   "metadata": {},
   "outputs": [
    {
     "data": {
      "text/plain": [
       "(490, 13)"
      ]
     },
     "execution_count": 4,
     "metadata": {},
     "output_type": "execute_result"
    }
   ],
   "source": [
    "X.shape"
   ]
  },
  {
   "cell_type": "code",
   "execution_count": 5,
   "metadata": {},
   "outputs": [],
   "source": [
    "from playML.model_selection import train_test_split\n",
    "X_train, X_test, y_train, y_test = train_test_split(X, y, seed = 666)"
   ]
  },
  {
   "cell_type": "markdown",
   "metadata": {},
   "source": [
    "### scikit - learn 中的线性回归"
   ]
  },
  {
   "cell_type": "code",
   "execution_count": 6,
   "metadata": {},
   "outputs": [],
   "source": [
    "from sklearn.linear_model import LinearRegression\n",
    "\n",
    "lin_reg = LinearRegression()"
   ]
  },
  {
   "cell_type": "code",
   "execution_count": 7,
   "metadata": {},
   "outputs": [
    {
     "data": {
      "text/plain": [
       "LinearRegression(copy_X=True, fit_intercept=True, n_jobs=None, normalize=False)"
      ]
     },
     "execution_count": 7,
     "metadata": {},
     "output_type": "execute_result"
    }
   ],
   "source": [
    "lin_reg.fit(X_train, y_train)"
   ]
  },
  {
   "cell_type": "code",
   "execution_count": 8,
   "metadata": {},
   "outputs": [
    {
     "data": {
      "text/plain": [
       "array([-1.15625837e-01,  3.13179564e-02, -4.35662825e-02, -9.73281610e-02,\n",
       "       -1.09500653e+01,  3.49898935e+00, -1.41780625e-02, -1.06249020e+00,\n",
       "        2.46031503e-01, -1.23291876e-02, -8.79440522e-01,  8.31653623e-03,\n",
       "       -3.98593455e-01])"
      ]
     },
     "execution_count": 8,
     "metadata": {},
     "output_type": "execute_result"
    }
   ],
   "source": [
    "lin_reg.coef_"
   ]
  },
  {
   "cell_type": "code",
   "execution_count": 9,
   "metadata": {},
   "outputs": [
    {
     "data": {
      "text/plain": [
       "32.5975615887"
      ]
     },
     "execution_count": 9,
     "metadata": {},
     "output_type": "execute_result"
    }
   ],
   "source": [
    "lin_reg.intercept_"
   ]
  },
  {
   "cell_type": "code",
   "execution_count": 10,
   "metadata": {},
   "outputs": [
    {
     "data": {
      "text/plain": [
       "array([18.0674832 , 25.38965364, 12.93779936, 32.9068425 , 24.45259285,\n",
       "        2.3035171 , 26.63711744, 31.6091074 , 14.05161887, 24.5200248 ,\n",
       "       14.80099915, 10.56883566, 30.04486713, 16.39641207, 23.89514927,\n",
       "       25.39090678, 18.85726816, 23.87410663, 28.78593566, 27.02102373,\n",
       "       12.82233874, 27.00779446, 26.1450563 , 22.85670482, 20.90397175,\n",
       "       32.05593449, 14.81505015, 20.40733243, 12.92773681, 30.1533454 ,\n",
       "       35.55450677,  5.22853278, 13.15673352, 35.86864403, 16.05439767,\n",
       "       21.28027929, 12.59195996, 29.36163103, 27.48027943, 23.99917107,\n",
       "       14.18301363, 23.43618315, 11.16599462, 22.31031056, 18.58668285,\n",
       "       16.46589493, 24.9445317 , 33.28965293, 19.11361467, 27.21927793,\n",
       "       18.07979492, 14.98324631, 25.22125847, 16.21827623, 21.65640339,\n",
       "       16.23226855, 24.06823531, 11.77168692, 27.93502896, 30.83956407,\n",
       "       19.71205279, 24.79388556, 25.89249735, 12.24815028, 16.75095143,\n",
       "       27.24953329, 22.47677908, 22.16879287, 31.48493081, 14.05038382,\n",
       "       16.63113664, 25.04984048, 25.39025152, 18.90652738, 17.36052017,\n",
       "       27.8182467 , 23.8127572 , 14.57086132, 11.2020382 , 30.88638927,\n",
       "       33.90913411, 17.63761351, 18.85605829, 17.27146047, 24.89137688,\n",
       "       23.5217639 , 24.63940455, 26.07688   , 25.10266544, 20.21979456,\n",
       "       24.75051588, 33.40170894, 36.03171667, 22.93715633, 19.0133428 ,\n",
       "       31.27940239, 35.5212862 , 20.96436337, 16.80859431, 17.14876637,\n",
       "       31.41306574, 15.19593608, 33.19631588, 23.0739325 , 16.73216   ,\n",
       "       14.89620066, 24.54664077, 18.48456406, 17.47824352, 33.32800489,\n",
       "       21.54412119, 14.06883478,  6.58144816, 18.23216098, 32.51940743,\n",
       "       16.89142987, 13.19187512, 21.81434261, 29.460062  , 15.80135888,\n",
       "       28.00576806, 18.36263611,  7.28891854])"
      ]
     },
     "execution_count": 10,
     "metadata": {},
     "output_type": "execute_result"
    }
   ],
   "source": [
    "lin_reg.predict(X_test)"
   ]
  },
  {
   "cell_type": "code",
   "execution_count": 11,
   "metadata": {},
   "outputs": [
    {
     "data": {
      "text/plain": [
       "0.8009390227581032"
      ]
     },
     "execution_count": 11,
     "metadata": {},
     "output_type": "execute_result"
    }
   ],
   "source": [
    "lin_reg.score(X_test, y_test)"
   ]
  },
  {
   "cell_type": "code",
   "execution_count": null,
   "metadata": {},
   "outputs": [],
   "source": []
  }
 ],
 "metadata": {
  "kernelspec": {
   "display_name": "Python 3",
   "language": "python",
   "name": "python3"
  },
  "language_info": {
   "codemirror_mode": {
    "name": "ipython",
    "version": 3
   },
   "file_extension": ".py",
   "mimetype": "text/x-python",
   "name": "python",
   "nbconvert_exporter": "python",
   "pygments_lexer": "ipython3",
   "version": "3.7.1rc2"
  }
 },
 "nbformat": 4,
 "nbformat_minor": 2
}

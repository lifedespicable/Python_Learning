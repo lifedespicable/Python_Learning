{
 "cells": [
  {
   "cell_type": "code",
   "execution_count": 1,
   "metadata": {},
   "outputs": [
    {
     "name": "stdout",
     "output_type": "stream",
     "text": [
      "['batches.meta', 'data_batch_1', 'data_batch_2', 'data_batch_3', 'data_batch_4', 'data_batch_5', 'readme.html', 'test_batch']\n"
     ]
    }
   ],
   "source": [
    "import tensorflow as tf\n",
    "import os\n",
    "import pickle\n",
    "import numpy as np\n",
    "\n",
    "CIFAR_DIR = './cifar-10-batches-py'\n",
    "print(os.listdir(CIFAR_DIR))"
   ]
  },
  {
   "cell_type": "code",
   "execution_count": 2,
   "metadata": {},
   "outputs": [
    {
     "name": "stdout",
     "output_type": "stream",
     "text": [
      "(50000, 3072)\n",
      "(50000,)\n",
      "(10000, 3072)\n",
      "(10000,)\n"
     ]
    }
   ],
   "source": [
    "def load_data(filename):\n",
    "    \"\"\"read data from data file.\"\"\"\n",
    "    with open(filename, 'rb') as f:\n",
    "        data = pickle.load(f, encoding = 'bytes')\n",
    "        return data[b'data'], data[b'labels']\n",
    "\n",
    "# tensorflow.Dataset\n",
    "class CifarData:\n",
    "    def __init__(self, filenames, need_shuffle):\n",
    "        all_data = []\n",
    "        all_labels = []\n",
    "        for filename in filenames:\n",
    "            data, labels = load_data(filename)\n",
    "            all_data.append(data)\n",
    "            all_labels.append(labels)\n",
    "            # 下面的代码是做了一个 filter \n",
    "#             for item, label in zip(data, labels):\n",
    "#                 if label in [0, 1]:\n",
    "#                     all_data.append(item)\n",
    "#                     all_labels.append(label)\n",
    "        # vstack是将数据纵向合并到一起，而 hstack 是将数据水平合并到一起\n",
    "        self._data = np.vstack(all_data)\n",
    "        self._data = self._data / 127.5 - 1\n",
    "        self._labels = np.hstack(all_labels)\n",
    "        print(self._data.shape)\n",
    "        print(self._labels.shape)\n",
    "        \n",
    "        self._num_examples = self._data.shape[0]\n",
    "        self._need_shuffle = need_shuffle\n",
    "        self._indicator = 0\n",
    "        if self._need_shuffle:\n",
    "            self._shuffle_data()\n",
    "            \n",
    "    def _shuffle_data(self):\n",
    "        # [0, 1, 2, 3, 4, 5] -> [5, 3, 2, 4, 0, 1]\n",
    "        p = np.random.permutation(self._num_examples)\n",
    "        self._data = self._data[p]\n",
    "        self._labels = self._labels[p]\n",
    "        \n",
    "    def next_batch(self, batch_size):\n",
    "        \"\"\"return batch_size examples as a batch.\"\"\"\n",
    "        end_indicator = self._indicator + batch_size\n",
    "        if end_indicator > self._num_examples:\n",
    "            if self._need_shuffle:\n",
    "                self._shuffle_data()\n",
    "                self._indicator = 0\n",
    "                end_indicator = batch_size\n",
    "            else:\n",
    "                raise Exception('have no more examples')\n",
    "        if end_indicator > self._num_examples:\n",
    "            raise Exception('batch size is larger than all examples')\n",
    "        batch_data = self._data[self._indicator: end_indicator]\n",
    "        batch_labels = self._labels[self._indicator: end_indicator]\n",
    "        self._indicator = end_indicator\n",
    "        return batch_data, batch_labels\n",
    "    \n",
    "train_filenames = [os.path.join(CIFAR_DIR, 'data_batch_%d' % i) for i in range(1, 6)]\n",
    "test_filenames = [os.path.join(CIFAR_DIR, 'test_batch')]\n",
    "train_data = CifarData(train_filenames, True)\n",
    "test_data = CifarData(test_filenames, False)\n",
    "\n",
    "batch_data, batch_labels = train_data.next_batch(10)\n",
    "# print(batch_data)\n",
    "# print(batch_labels)"
   ]
  },
  {
   "cell_type": "code",
   "execution_count": 3,
   "metadata": {},
   "outputs": [
    {
     "name": "stderr",
     "output_type": "stream",
     "text": [
      "WARNING: Logging before flag parsing goes to stderr.\n",
      "W0112 22:36:19.570784 89536 deprecation.py:323] From <ipython-input-3-6a46692641e5>:5: dense (from tensorflow.python.layers.core) is deprecated and will be removed in a future version.\n",
      "Instructions for updating:\n",
      "Use keras.layers.dense instead.\n",
      "W0112 22:36:19.575808 89536 deprecation.py:506] From e:\\python\\lib\\site-packages\\tensorflow\\python\\ops\\init_ops.py:1251: calling VarianceScaling.__init__ (from tensorflow.python.ops.init_ops) with dtype is deprecated and will be removed in a future version.\n",
      "Instructions for updating:\n",
      "Call initializer instance with the dtype argument instead of passing it to the constructor\n",
      "W0112 22:36:19.850528 89536 deprecation.py:323] From e:\\python\\lib\\site-packages\\tensorflow\\python\\ops\\losses\\losses_impl.py:121: add_dispatch_support.<locals>.wrapper (from tensorflow.python.ops.array_ops) is deprecated and will be removed in a future version.\n",
      "Instructions for updating:\n",
      "Use tf.where in 2.0, which has the same broadcast rule as np.where\n"
     ]
    }
   ],
   "source": [
    "x = tf.placeholder(tf.float32, [None, 3072])\n",
    "# y 的 shape 是 [None], eg: [0, 5, 6, 3]\n",
    "y = tf.placeholder(tf.int64, [None])\n",
    "# 在中间层我们需要加入一个非线性的变化函数\n",
    "hidden1 = tf.layers.dense(x, 100, activation = tf.nn.relu)\n",
    "hidden2 = tf.layers.dense(hidden1, 100, activation = tf.nn.relu)\n",
    "hidden3 = tf.layers.dense(hidden2, 50, activation = tf.nn.relu)\n",
    "# dense函数就是实现全连接的封装的api\n",
    "y_ = tf.layers.dense(hidden3, 10)\n",
    "\n",
    "# mean square loss 平方差损失函数\n",
    "# course: 1 + e^x\n",
    "# api: e^x / sum(e^x)\n",
    "# [[0.01, 0.9, ..., 0.03], []]\n",
    "# p_y = tf.nn.softmax(y_)\n",
    "# 5 -> [0, 0, 0, 0, 0, 1, 0, 0, 0, 0]\n",
    "# y_one_hot = tf.one_hot(y, 10, dtype = tf.float32)\n",
    "# tf.reduce_mean是求均值，tf.square是求平方\n",
    "# loss = tf.reduce_mean(tf.square(y_one_hot - p_y))\n",
    "\n",
    "# 下面是交叉熵损失函数\n",
    "loss = tf.losses.sparse_softmax_cross_entropy(labels = y, logits = y_)\n",
    "# y_ -> softmax\n",
    "# y -> one_hot\n",
    "# loss = ylog(y_)\n",
    "\n",
    "# indices\n",
    "predict = tf.argmax(y_, 1)\n",
    "# [1, 0, 1, 1, 1, 0, 0, 0]\n",
    "correct_prediction = tf.equal(predict, y)\n",
    "# 因为下面是要求解均值，所以需要使用 float 类型的数据\n",
    "accuracy = tf.reduce_mean(tf.cast(correct_prediction, tf.float64))\n",
    "# AdamOptimizer是梯度下降的一个变种，1e-3是初始化的学习率\n",
    "with tf.name_scope('train_op'):\n",
    "    train_op = tf.train.AdamOptimizer(1e-3).minimize(loss)"
   ]
  },
  {
   "cell_type": "code",
   "execution_count": 4,
   "metadata": {},
   "outputs": [
    {
     "name": "stdout",
     "output_type": "stream",
     "text": [
      "[Train] Step: 500, loss: 1.86652, acc: 0.25000\n",
      "[Train] Step: 1000, loss: 1.84447, acc: 0.35000\n",
      "[Train] Step: 1500, loss: 1.43314, acc: 0.45000\n",
      "[Train] Step: 2000, loss: 1.69667, acc: 0.30000\n",
      "[Train] Step: 2500, loss: 1.39371, acc: 0.40000\n",
      "[Train] Step: 3000, loss: 1.08417, acc: 0.50000\n",
      "[Train] Step: 3500, loss: 1.48621, acc: 0.50000\n",
      "[Train] Step: 4000, loss: 0.98710, acc: 0.60000\n",
      "[Train] Step: 4500, loss: 1.69946, acc: 0.45000\n",
      "[Train] Step: 5000, loss: 1.34258, acc: 0.55000\n",
      "(10000, 3072)\n",
      "(10000,)\n",
      "[Test] Step : 5000, acc: 0.48000\n",
      "[Train] Step: 5500, loss: 1.20873, acc: 0.65000\n",
      "[Train] Step: 6000, loss: 1.16553, acc: 0.65000\n",
      "[Train] Step: 6500, loss: 1.63511, acc: 0.50000\n",
      "[Train] Step: 7000, loss: 1.83152, acc: 0.45000\n",
      "[Train] Step: 7500, loss: 1.35664, acc: 0.50000\n",
      "[Train] Step: 8000, loss: 1.39584, acc: 0.60000\n",
      "[Train] Step: 8500, loss: 1.20170, acc: 0.50000\n",
      "[Train] Step: 9000, loss: 1.22443, acc: 0.50000\n",
      "[Train] Step: 9500, loss: 1.19064, acc: 0.55000\n",
      "[Train] Step: 10000, loss: 1.47271, acc: 0.45000\n",
      "(10000, 3072)\n",
      "(10000,)\n",
      "[Test] Step : 10000, acc: 0.49750\n"
     ]
    }
   ],
   "source": [
    "# init()函数使用来执行初始化的\n",
    "init = tf.global_variables_initializer()\n",
    "batch_size = 20\n",
    "train_steps = 10000\n",
    "test_steps = 100\n",
    "\n",
    "with tf.Session() as sess:\n",
    "    sess.run(init)\n",
    "    for i in range(train_steps):\n",
    "        batch_data, batch_labels = train_data.next_batch(batch_size)\n",
    "        loss_val, acc_val, _ = sess.run(\n",
    "            [loss, accuracy, train_op], \n",
    "            feed_dict = {\n",
    "                x: batch_data, \n",
    "                y: batch_labels})\n",
    "        if (i+1) % 500 == 0:\n",
    "            print('[Train] Step: %d, loss: %4.5f, acc: %4.5f' \\\n",
    "                 %(i+1, loss_val, acc_val))\n",
    "        if (i+1) % 5000 == 0:\n",
    "            test_data = CifarData(test_filenames, False)\n",
    "            all_test_acc_val = []\n",
    "            for j in range(test_steps):\n",
    "                test_batch_data, test_batch_labels \\\n",
    "                    = test_data.next_batch(batch_size)\n",
    "                test_acc_val = sess.run(\n",
    "                    [accuracy],\n",
    "                    feed_dict = {\n",
    "                        x: test_batch_data,\n",
    "                        y: test_batch_labels\n",
    "                    })\n",
    "                all_test_acc_val.append(test_acc_val)\n",
    "            test_acc = np.mean(all_test_acc_val)\n",
    "            print('[Test] Step : %d, acc: %4.5f' %(i+1, test_acc))\n",
    "                "
   ]
  },
  {
   "cell_type": "code",
   "execution_count": null,
   "metadata": {},
   "outputs": [],
   "source": [
    " "
   ]
  }
 ],
 "metadata": {
  "kernelspec": {
   "display_name": "Python 3",
   "language": "python",
   "name": "python3"
  },
  "language_info": {
   "codemirror_mode": {
    "name": "ipython",
    "version": 3
   },
   "file_extension": ".py",
   "mimetype": "text/x-python",
   "name": "python",
   "nbconvert_exporter": "python",
   "pygments_lexer": "ipython3",
   "version": "3.7.1rc2"
  }
 },
 "nbformat": 4,
 "nbformat_minor": 2
}

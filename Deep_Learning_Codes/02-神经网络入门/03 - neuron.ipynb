{
 "cells": [
  {
   "cell_type": "code",
   "execution_count": 1,
   "metadata": {},
   "outputs": [
    {
     "name": "stdout",
     "output_type": "stream",
     "text": [
      "['batches.meta', 'data_batch_1', 'data_batch_2', 'data_batch_3', 'data_batch_4', 'data_batch_5', 'readme.html', 'test_batch']\n"
     ]
    }
   ],
   "source": [
    "import tensorflow as tf\n",
    "import os\n",
    "import pickle\n",
    "import numpy as np\n",
    "\n",
    "CIFAR_DIR = './cifar-10-batches-py'\n",
    "print(os.listdir(CIFAR_DIR))"
   ]
  },
  {
   "cell_type": "code",
   "execution_count": 2,
   "metadata": {},
   "outputs": [
    {
     "name": "stdout",
     "output_type": "stream",
     "text": [
      "(10000, 3072)\n",
      "(10000,)\n",
      "(2000, 3072)\n",
      "(2000,)\n",
      "[[  7  12   6 ... 200 197 192]\n",
      " [205 223 252 ... 250 245 231]\n",
      " [253 244 244 ...  38  41  42]\n",
      " ...\n",
      " [  0   0   0 ... 129 130 132]\n",
      " [ 39  42  38 ... 155 154 147]\n",
      " [103 106 114 ... 226 233 249]]\n",
      "[1 0 1 0 0 0 0 1 0 0]\n"
     ]
    }
   ],
   "source": [
    "def load_data(filename):\n",
    "    \"\"\"read data from data file.\"\"\"\n",
    "    with open(filename, 'rb') as f:\n",
    "        data = pickle.load(f, encoding = 'bytes')\n",
    "        return data[b'data'], data[b'labels']\n",
    "\n",
    "class CifarData:\n",
    "    def __init__(self, filenames, need_shuffle):\n",
    "        all_data = []\n",
    "        all_labels = []\n",
    "        for filename in filenames:\n",
    "            data, labels = load_data(filename)\n",
    "            for item, label in zip(data, labels):\n",
    "                if label in [0, 1]:\n",
    "                    all_data.append(item)\n",
    "                    all_labels.append(label)\n",
    "        self._data = np.vstack(all_data)\n",
    "        self._labels = np.hstack(all_labels)\n",
    "        print(self._data.shape)\n",
    "        print(self._labels.shape)\n",
    "        \n",
    "        self._num_examples = self._data.shape[0]\n",
    "        self._need_shuffle = need_shuffle\n",
    "        self._indicator = 0\n",
    "        if self._need_shuffle:\n",
    "            self._shuffle_data()\n",
    "            \n",
    "    def _shuffle_data(self):\n",
    "        # [0. 1. 2. 3. 4. 5] -> [5, 3, 2, 4, 1]\n",
    "        p = np.random.permutation(self._num_examples)\n",
    "        self._data = self._data[p]\n",
    "        self._labels = self._labels[p]\n",
    "        \n",
    "    def next_batch(self, batch_size):\n",
    "        \"\"\"return batch_size examples as a batch\"\"\"\n",
    "        end_indicator = self._indicator + batch_size\n",
    "        if end_indicator > self._num_examples:\n",
    "            if self._need_shuffle:\n",
    "                self._shuffle_data()\n",
    "                self._indicator = 0\n",
    "                end_indicator = batch_size\n",
    "            else:\n",
    "                raise Exception('have no more examples')\n",
    "        if end_indicator > self._num_examples:\n",
    "            raise Exception('batch size is larger than all examples')\n",
    "        batch_data = self._data[self._indicator: end_indicator]\n",
    "        batch_labels = self._labels[self._indicator: end_indicator]\n",
    "        return batch_data, batch_labels\n",
    "    \n",
    "train_filenames = [os.path.join(CIFAR_DIR, 'data_batch_%d' % i) for i in range(1, 6)]\n",
    "test_filenames = [os.path.join(CIFAR_DIR, 'test_batch')]\n",
    "train_data = CifarData(train_filenames, True)\n",
    "test_data = CifarData(test_filenames, False)\n",
    "\n",
    "batch_data, batch_labels = train_data.next_batch(10)\n",
    "print(batch_data)\n",
    "print(batch_labels)"
   ]
  },
  {
   "cell_type": "code",
   "execution_count": 3,
   "metadata": {},
   "outputs": [],
   "source": [
    "x = tf.placeholder(tf.float32, [None, 3072])\n",
    "# y 的 shape 是 [None]\n",
    "y = tf.placeholder(tf.int64, [None])\n",
    "\n",
    "# w 的 shape 是（3072， 1）\n",
    "w = tf.get_variable('w', [x.get_shape()[-1], 1],\n",
    "                   initializer = tf.random_normal_initializer(0, 1))\n",
    "# b 的 shape 是（1，）\n",
    "b = tf.get_variable('b', [1], \n",
    "                   initializer = tf.constant_initializer(0.0))\n",
    "\n",
    "# mat是矩阵的意思，而 mul是乘法的意思\n",
    "# y_的 shape 是[None, 3072] * [3072, 1] = [None, 1]\n",
    "y_ = tf.matmul(x, w) + b\n",
    "# p_y_1 的 shape 是 [None, 1]\n",
    "p_y_1 = tf.nn.sigmoid(y_)\n",
    "# 将 y 的 shape 从 [None] 转化为 [None, 1]\n",
    "y_reshaped = tf.reshape(y, (-1, 1))\n",
    "y_reshaped_float = tf.cast(y_reshaped, tf.float32)\n",
    "\n",
    "# tf.reduce_mean是求均值，tf.square是求平方\n",
    "loss = tf.reduce_mean(tf.square(y_reshaped_float - p_y_1))\n",
    "\n",
    "# bool\n",
    "predict = p_y_1 > 0.5\n",
    "# [1, 0, 1, 1, 1, 0, 0, 0]\n",
    "correct_prediction = tf.equal(tf.cast(predict, tf.int64), y_reshaped)\n",
    "# 因为下面是要求解均值，所以需要使用 float 类型的数据\n",
    "accuracy = tf.reduce_mean(tf.cast(correct_prediction, tf.float64))\n",
    "# AdamOptimizer是梯度下降的一个变种，1e-3是初始化的学习率\n",
    "with tf.name_scope('train_op'):\n",
    "    train_op = tf.train.AdamOptimizer(1e-3).minimize(loss)"
   ]
  },
  {
   "cell_type": "code",
   "execution_count": 4,
   "metadata": {},
   "outputs": [
    {
     "ename": "SyntaxError",
     "evalue": "invalid syntax (<ipython-input-4-719d84424dcc>, line 3)",
     "output_type": "error",
     "traceback": [
      "\u001b[1;36m  File \u001b[1;32m\"<ipython-input-4-719d84424dcc>\"\u001b[1;36m, line \u001b[1;32m3\u001b[0m\n\u001b[1;33m    sess.run([loss, accuracy, train_op], feed_dict = {x:, y:})\u001b[0m\n\u001b[1;37m                                                        ^\u001b[0m\n\u001b[1;31mSyntaxError\u001b[0m\u001b[1;31m:\u001b[0m invalid syntax\n"
     ]
    }
   ],
   "source": [
    "init = tf.global_variable_initializer()\n",
    "with tf.Session() as sess:\n",
    "    sess.run([loss, accuracy, train_op], feed_dict = {x:, y:})"
   ]
  }
 ],
 "metadata": {
  "kernelspec": {
   "display_name": "Python 3",
   "language": "python",
   "name": "python3"
  },
  "language_info": {
   "codemirror_mode": {
    "name": "ipython",
    "version": 3
   },
   "file_extension": ".py",
   "mimetype": "text/x-python",
   "name": "python",
   "nbconvert_exporter": "python",
   "pygments_lexer": "ipython3",
   "version": "3.7.1rc2"
  }
 },
 "nbformat": 4,
 "nbformat_minor": 2
}

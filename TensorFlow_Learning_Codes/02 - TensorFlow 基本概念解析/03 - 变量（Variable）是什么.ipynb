{
 "cells": [
  {
   "cell_type": "code",
   "execution_count": 1,
   "metadata": {},
   "outputs": [],
   "source": [
    "import tensorflow as tf"
   ]
  },
  {
   "cell_type": "code",
   "execution_count": 4,
   "metadata": {},
   "outputs": [],
   "source": [
    "# 创建变量\n",
    "# tf.random_normal 方法返回形状为（1， 4）的张量。它的 4个元素符合均值为 100，标准差为 0.35的正态分布\n",
    "W = tf.Variable(initial_value = tf.random_normal(shape = (1, 4), mean = 100, stddev = 0.35),\n",
    "               name = 'W')\n",
    "b = tf.Variable(tf.zeros([4]), name = 'b')"
   ]
  },
  {
   "cell_type": "code",
   "execution_count": 5,
   "metadata": {},
   "outputs": [
    {
     "data": {
      "text/plain": [
       "[<tf.Variable 'W:0' shape=(1, 4) dtype=float32_ref>,\n",
       " <tf.Variable 'b:0' shape=(4,) dtype=float32_ref>]"
      ]
     },
     "execution_count": 5,
     "metadata": {},
     "output_type": "execute_result"
    }
   ],
   "source": [
    "[W, b]"
   ]
  },
  {
   "cell_type": "code",
   "execution_count": 7,
   "metadata": {},
   "outputs": [
    {
     "data": {
      "text/plain": [
       "[array([[100.224075, 100.361374, 100.39988 , 100.28041 ]], dtype=float32),\n",
       " array([0., 0., 0., 0.], dtype=float32)]"
      ]
     },
     "execution_count": 7,
     "metadata": {},
     "output_type": "execute_result"
    }
   ],
   "source": [
    "# 初始化变量\n",
    "# 创建回话（之后小结介绍）\n",
    "sess = tf.Session()\n",
    "# 使用 global_variables_initializer 方法初始化全局变量 W 和 b\n",
    "sess.run(tf.global_variables_initializer())\n",
    "# 执行操作，获取变量值\n",
    "sess.run([W,b])"
   ]
  },
  {
   "cell_type": "code",
   "execution_count": 8,
   "metadata": {},
   "outputs": [
    {
     "data": {
      "text/plain": [
       "array([1., 1., 1., 1.], dtype=float32)"
      ]
     },
     "execution_count": 8,
     "metadata": {},
     "output_type": "execute_result"
    }
   ],
   "source": [
    "# 执行更新变量 b 的操作\n",
    "sess.run(tf.assign_add(b, [1, 1, 1, 1]))"
   ]
  },
  {
   "cell_type": "code",
   "execution_count": 9,
   "metadata": {},
   "outputs": [
    {
     "data": {
      "text/plain": [
       "array([1., 1., 1., 1.], dtype=float32)"
      ]
     },
     "execution_count": 9,
     "metadata": {},
     "output_type": "execute_result"
    }
   ],
   "source": [
    "# 查看变量 b 是否更新成功\n",
    "sess.run(b)"
   ]
  },
  {
   "cell_type": "markdown",
   "metadata": {},
   "source": [
    "### Saver 使用示例\n",
    "```PYTHON\n",
    "v1 = tf.Variable(..., name = 'v1')\n",
    "v2 = tf.Variable(..., name = 'v2')\n",
    "# 指定需要保存和恢复的变量\n",
    "saver = tf.train.Saver({'v1': v1, 'v2': v2})\n",
    "saver = tf.train.Saver([v1, v2])\n",
    "saver = tf.train.Saver({v.op.name: v for v in [v1, v2]})\n",
    "# 保存变量的方法\n",
    "tf.train.saver.save(sess, 'my-model', global_step = 0) \n",
    "# ==> filename: 'my-model-0'\n",
    "```"
   ]
  },
  {
   "cell_type": "code",
   "execution_count": 11,
   "metadata": {},
   "outputs": [
    {
     "data": {
      "text/plain": [
       "'./summary/test.ckpt-0'"
      ]
     },
     "execution_count": 11,
     "metadata": {},
     "output_type": "execute_result"
    }
   ],
   "source": [
    "# 创建 Saver\n",
    "saver = tf.train.Saver({'W': W, 'b': b})\n",
    "# 存储变量到文件 ‘./summary/test.ckpt-0’\n",
    "saver.save(sess, './summary/test.ckpt', global_step = 0)"
   ]
  },
  {
   "cell_type": "code",
   "execution_count": 12,
   "metadata": {},
   "outputs": [
    {
     "data": {
      "text/plain": [
       "array([2., 2., 2., 2.], dtype=float32)"
      ]
     },
     "execution_count": 12,
     "metadata": {},
     "output_type": "execute_result"
    }
   ],
   "source": [
    "# 再次执行更新变量 b 的操作\n",
    "sess.run(tf.assign_add(b, [1, 1, 1, 1]))\n",
    "# 获取变量 b 的最新值\n",
    "sess.run(b)"
   ]
  },
  {
   "cell_type": "code",
   "execution_count": 13,
   "metadata": {},
   "outputs": [
    {
     "name": "stderr",
     "output_type": "stream",
     "text": [
      "WARNING: Logging before flag parsing goes to stderr.\n",
      "W1108 22:16:07.304548 268036 deprecation.py:323] From e:\\python\\lib\\site-packages\\tensorflow\\python\\training\\saver.py:1276: checkpoint_exists (from tensorflow.python.training.checkpoint_management) is deprecated and will be removed in a future version.\n",
      "Instructions for updating:\n",
      "Use standard file APIs to check for files with this prefix.\n"
     ]
    },
    {
     "data": {
      "text/plain": [
       "array([1., 1., 1., 1.], dtype=float32)"
      ]
     },
     "execution_count": 13,
     "metadata": {},
     "output_type": "execute_result"
    }
   ],
   "source": [
    "# 从文件中恢复变量 b 的值\n",
    "saver.restore(sess, './summary/test.ckpt-0')\n",
    "# 查看变量 b 是否恢复成功\n",
    "sess.run(b)"
   ]
  },
  {
   "cell_type": "code",
   "execution_count": null,
   "metadata": {},
   "outputs": [],
   "source": []
  }
 ],
 "metadata": {
  "kernelspec": {
   "display_name": "Python 3",
   "language": "python",
   "name": "python3"
  },
  "language_info": {
   "codemirror_mode": {
    "name": "ipython",
    "version": 3
   },
   "file_extension": ".py",
   "mimetype": "text/x-python",
   "name": "python",
   "nbconvert_exporter": "python",
   "pygments_lexer": "ipython3",
   "version": "3.7.1rc2"
  }
 },
 "nbformat": 4,
 "nbformat_minor": 2
}

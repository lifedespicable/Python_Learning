{
 "cells": [
  {
   "cell_type": "code",
   "execution_count": 12,
   "metadata": {},
   "outputs": [
    {
     "name": "stdout",
     "output_type": "stream",
     "text": [
      "Extracting /temp/data/train-images-idx3-ubyte.gz\n",
      "Extracting /temp/data/train-labels-idx1-ubyte.gz\n",
      "Extracting /temp/data/t10k-images-idx3-ubyte.gz\n",
      "Extracting /temp/data/t10k-labels-idx1-ubyte.gz\n"
     ]
    }
   ],
   "source": [
    "from __future__ import print_function\n",
    "\n",
    "# 导入 MNIST 数据集\n",
    "from tensorflow.examples.tutorials.mnist import input_data\n",
    "mnist = input_data.read_data_sets('/temp/data/', one_hot = True)\n",
    "\n",
    "import tensorflow as tf"
   ]
  },
  {
   "cell_type": "code",
   "execution_count": 28,
   "metadata": {},
   "outputs": [],
   "source": [
    "# 超参数\n",
    "learning_rate = 0.1\n",
    "num_steps = 500\n",
    "batch_size = 128\n",
    "display_step = 100\n",
    "\n",
    "# 神经网络参数\n",
    "n_hidden_1 = 256 # 第一个神经元的参数\n",
    "n_hidden_2 = 256 # 第二个神经元的参数\n",
    "num_input = 784 # MNIST 输入数据（图像大小：28*28）\n",
    "num_classes = 10 # MNIST 手写数字类别（0-9）\n",
    "\n",
    "# 输入到数据流图中的训练数据\n",
    "# 在 TensorFlow 里面若把数组其中的一维的值设置为 None 的话，其实表示的是这一个数组是可变长的动态数组\n",
    "X = tf.placeholder('float', [None, num_input])\n",
    "Y = tf.placeholder('float', [None, num_classes])"
   ]
  },
  {
   "cell_type": "code",
   "execution_count": 29,
   "metadata": {},
   "outputs": [],
   "source": [
    "# 权重和偏置\n",
    "weights = {\n",
    "    'h1': tf.Variable(tf.random_normal([num_input, n_hidden_1])),\n",
    "    'h2': tf.Variable(tf.random_normal([n_hidden_1, n_hidden_2])),\n",
    "    'out': tf.Variable(tf.random_normal([n_hidden_2, num_classes]))\n",
    "}\n",
    "biases = {\n",
    "    'b1': tf.Variable(tf.random_normal([n_hidden_1])),\n",
    "    'b2': tf.Variable(tf.random_normal([n_hidden_2])),\n",
    "    'out': tf.Variable(tf.random_normal([num_classes]))\n",
    "}"
   ]
  },
  {
   "cell_type": "code",
   "execution_count": 30,
   "metadata": {},
   "outputs": [],
   "source": [
    "# 定义神经网络\n",
    "def neural_net(x):\n",
    "    # 第一层隐藏层 （256个神经元）\n",
    "    layer_1 = tf.add(tf.matmul(x, weights['h1']), biases['b1'])\n",
    "    # 第二层隐藏层 (256个神经元)\n",
    "    layer_2 = tf.add(tf.matmul(layer_1, weights['h2']), biases['b2'])\n",
    "    # 输出层|\n",
    "    out_layer = tf.matmul(layer_2, weights['out']) + biases['out']\n",
    "    return out_layer"
   ]
  },
  {
   "cell_type": "code",
   "execution_count": 38,
   "metadata": {},
   "outputs": [],
   "source": [
    "# 构建模型\n",
    "logits = neural_net(X)\n",
    "\n",
    "# 定义损失函数和优化器\n",
    "loss_op = tf.reduce_mean(tf.nn.softmax_cross_entropy_with_logits(\n",
    "          logits = logits, labels = Y))\n",
    "optimizer = tf.train.AdamOptimizer(learning_rate = learning_rate)\n",
    "train_op = optimizer.minimize(loss_op)\n",
    "\n",
    "# 定义预测准确率\n",
    "correct_pred = tf.equal(tf.argmax(logits, 1), tf.argmax(Y, 1))\n",
    "accuracy = tf.reduce_mean(tf.cast(correct_pred, tf.float32))\n",
    "\n",
    "# 初始化所有变量(赋默认值)\n",
    "init = tf.global_variables_initializer()"
   ]
  },
  {
   "cell_type": "code",
   "execution_count": 44,
   "metadata": {},
   "outputs": [
    {
     "name": "stdout",
     "output_type": "stream",
     "text": [
      "Step 1, Minibatch Loss= 12061.5986, Training Accuracy = 0.250\n",
      "Step 100, Minibatch Loss= 149.4395, Training Accuracy = 0.898\n",
      "Step 200, Minibatch Loss= 88.8344, Training Accuracy = 0.922\n",
      "Step 300, Minibatch Loss= 97.8179, Training Accuracy = 0.812\n",
      "Step 400, Minibatch Loss= 46.4410, Training Accuracy = 0.875\n",
      "Step 500, Minibatch Loss= 63.3397, Training Accuracy = 0.867\n",
      "Optimization Finished !\n",
      "Testing Accuracy:  0.8634\n"
     ]
    }
   ],
   "source": [
    "# 开始训练\n",
    "with tf.Session() as sess:\n",
    "    \n",
    "    # 执行初始化操作\n",
    "    sess.run(init)\n",
    "    \n",
    "    for step in range(1, num_steps + 1):\n",
    "        batch_x, batch_y = mnist.train.next_batch(batch_size)\n",
    "        # 执行训练操作，包括前向和后向传播\n",
    "        sess.run(train_op, feed_dict = {X: batch_x, Y: batch_y})\n",
    "        if step % display_step == 0 or step == 1:\n",
    "            # 计算损失值和准确率\n",
    "            loss, acc = sess.run([loss_op, accuracy], feed_dict = {X: batch_x,\n",
    "                                                                  Y: batch_y})\n",
    "            print('Step ' + str(step) + ', Minibatch Loss= ' + \\\n",
    "                 '{:.4f}'.format(loss) + ', Training Accuracy = ' + \\\n",
    "                 '{:.3f}'.format(acc))\n",
    "    print('Optimization Finished !')\n",
    "        \n",
    "        # 计算测试数据集的准确率\n",
    "    print('Testing Accuracy: ', \\\n",
    "          sess.run(accuracy, feed_dict = {X: mnist.test.images,\n",
    "                                            Y: mnist.test.labels}))"
   ]
  },
  {
   "cell_type": "code",
   "execution_count": null,
   "metadata": {},
   "outputs": [],
   "source": []
  }
 ],
 "metadata": {
  "kernelspec": {
   "display_name": "Python 3",
   "language": "python",
   "name": "python3"
  },
  "language_info": {
   "codemirror_mode": {
    "name": "ipython",
    "version": 3
   },
   "file_extension": ".py",
   "mimetype": "text/x-python",
   "name": "python",
   "nbconvert_exporter": "python",
   "pygments_lexer": "ipython3",
   "version": "3.7.1rc2"
  }
 },
 "nbformat": 4,
 "nbformat_minor": 2
}

{
 "cells": [
  {
   "cell_type": "code",
   "execution_count": 1,
   "metadata": {},
   "outputs": [],
   "source": [
    "import tensorflow as tf"
   ]
  },
  {
   "cell_type": "code",
   "execution_count": 3,
   "metadata": {},
   "outputs": [],
   "source": [
    "# 0 阶张量，complex 表示的是负数\n",
    "mamal = tf.Variable('Elephant', tf.string)\n",
    "ignition = tf.Variable(451, tf.int16)\n",
    "floating = tf.Variable(3.14159265359, tf.float64)\n",
    "its_complicated = tf.Variable(12.3 - 4.58j, tf.complex64)"
   ]
  },
  {
   "cell_type": "code",
   "execution_count": 4,
   "metadata": {},
   "outputs": [
    {
     "data": {
      "text/plain": [
       "[<tf.Variable 'Variable_3:0' shape=() dtype=string_ref>,\n",
       " <tf.Variable 'Variable_4:0' shape=() dtype=int32_ref>,\n",
       " <tf.Variable 'Variable_5:0' shape=() dtype=float32_ref>,\n",
       " <tf.Variable 'Variable_6:0' shape=() dtype=complex128_ref>]"
      ]
     },
     "execution_count": 4,
     "metadata": {},
     "output_type": "execute_result"
    }
   ],
   "source": [
    "[mamal, ignition, floating, its_complicated]"
   ]
  },
  {
   "cell_type": "code",
   "execution_count": 12,
   "metadata": {},
   "outputs": [],
   "source": [
    "# 1 阶张量\n",
    "mystr = tf.Variable(['Hello', 'World'], tf.string)\n",
    "cool_numbers = tf.Variable([3.14159, 2.71828], tf.float32)\n",
    "first_primes = tf.Variable([2, 3, 5, 7, 11], tf.int32)\n",
    "its_very_complicated = tf.Variable([12.3 - 4.85j, 7.5 - 6.23j], tf.complex64)"
   ]
  },
  {
   "cell_type": "code",
   "execution_count": 13,
   "metadata": {},
   "outputs": [
    {
     "data": {
      "text/plain": [
       "[<tf.Variable 'Variable_15:0' shape=(2,) dtype=string_ref>,\n",
       " <tf.Variable 'Variable_16:0' shape=(2,) dtype=float32_ref>,\n",
       " <tf.Variable 'Variable_17:0' shape=(5,) dtype=int32_ref>,\n",
       " <tf.Variable 'Variable_18:0' shape=(2,) dtype=complex128_ref>]"
      ]
     },
     "execution_count": 13,
     "metadata": {},
     "output_type": "execute_result"
    }
   ],
   "source": [
    "[mystr, cool_numbers, first_primes, its_very_complicated]"
   ]
  },
  {
   "cell_type": "code",
   "execution_count": 14,
   "metadata": {},
   "outputs": [],
   "source": [
    "# 2阶张量\n",
    "mymat = tf.Variable([[7], [11]], tf.int16)\n",
    "myxor = tf.Variable([[False, True], [True, False]], tf.bool)\n",
    "linear_square = tf.Variable([[4], [9], [16], [25]], tf.int32)\n",
    "squarish_squares = tf.Variable([[4, 9], [16, 25]], tf.int32)\n",
    "rank_of_squares = tf.rank(squarish_squares)\n",
    "mymatC = tf.Variable([[7], [11]], tf.int32)"
   ]
  },
  {
   "cell_type": "code",
   "execution_count": 15,
   "metadata": {},
   "outputs": [
    {
     "data": {
      "text/plain": [
       "[<tf.Variable 'Variable_19:0' shape=(2, 1) dtype=int32_ref>,\n",
       " <tf.Variable 'Variable_20:0' shape=(2, 2) dtype=bool_ref>,\n",
       " <tf.Variable 'Variable_21:0' shape=(4, 1) dtype=int32_ref>,\n",
       " <tf.Variable 'Variable_22:0' shape=(2, 2) dtype=int32_ref>,\n",
       " <tf.Tensor 'Rank:0' shape=() dtype=int32>,\n",
       " <tf.Variable 'Variable_23:0' shape=(2, 1) dtype=int32_ref>]"
      ]
     },
     "execution_count": 15,
     "metadata": {},
     "output_type": "execute_result"
    }
   ],
   "source": [
    "[mymat, myxor, linear_square, squarish_squares, rank_of_squares, mymatC]"
   ]
  },
  {
   "cell_type": "code",
   "execution_count": 18,
   "metadata": {},
   "outputs": [],
   "source": [
    "# 4阶张量\n",
    "my_image = tf.zeros([10, 299, 299, 3]) # batch x height x width x color"
   ]
  },
  {
   "cell_type": "code",
   "execution_count": 19,
   "metadata": {},
   "outputs": [
    {
     "data": {
      "text/plain": [
       "<tf.Tensor 'zeros:0' shape=(10, 299, 299, 3) dtype=float32>"
      ]
     },
     "execution_count": 19,
     "metadata": {},
     "output_type": "execute_result"
    }
   ],
   "source": [
    "my_image"
   ]
  },
  {
   "cell_type": "code",
   "execution_count": null,
   "metadata": {},
   "outputs": [],
   "source": []
  }
 ],
 "metadata": {
  "kernelspec": {
   "display_name": "Python 3",
   "language": "python",
   "name": "python3"
  },
  "language_info": {
   "codemirror_mode": {
    "name": "ipython",
    "version": 3
   },
   "file_extension": ".py",
   "mimetype": "text/x-python",
   "name": "python",
   "nbconvert_exporter": "python",
   "pygments_lexer": "ipython3",
   "version": "3.7.1rc2"
  }
 },
 "nbformat": 4,
 "nbformat_minor": 2
}
